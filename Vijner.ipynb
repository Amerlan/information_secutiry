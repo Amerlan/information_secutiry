{
 "cells": [
  {
   "cell_type": "code",
   "execution_count": 1,
   "metadata": {},
   "outputs": [],
   "source": [
    "def create_tabula():\n",
    "    letters = []\n",
    "    for x in range(97,123):\n",
    "        letters.append(chr(x))\n",
    "    tabula = dict(zip(letters, [i for i in range(1,len(letters)+1)]))\n",
    "    inv_tabula = dict(zip([i for i in range(1,27)], letters))\n",
    "    tabula['z'] = 0\n",
    "    inv_tabula[0] = 'z'\n",
    "    return tabula, inv_tabula\n",
    "\n",
    "def equalkey(info):\n",
    "    print('\\nEnter a key')\n",
    "    key = input().lower()\n",
    "    while len(key) < len(info):\n",
    "        key += key\n",
    "    key = list(key)\n",
    "    info = list(info)\n",
    "    out = '' \n",
    "    for x in range(len(info)):\n",
    "        if info[x] == ' ':\n",
    "            key.insert(x,info[x])\n",
    "    for x in range(len(info)):\n",
    "        out +=key[x]\n",
    "    return out"
   ]
  },
  {
   "cell_type": "code",
   "execution_count": 2,
   "metadata": {},
   "outputs": [
    {
     "name": "stdout",
     "output_type": "stream",
     "text": [
      "Enter the information\n",
      "this lesson is 2nd on saturday\n",
      "\n",
      "Enter a key\n",
      "key\n"
     ]
    }
   ],
   "source": [
    "tabula,inv_tabula = create_tabula()\n",
    "print('Enter the information')\n",
    "information = input().lower()\n",
    "key = equalkey(information)"
   ]
  },
  {
   "cell_type": "code",
   "execution_count": 3,
   "metadata": {},
   "outputs": [
    {
     "data": {
      "text/plain": [
       "'keyk eykeyk ey key ke ykeykeyk'"
      ]
     },
     "execution_count": 3,
     "metadata": {},
     "output_type": "execute_result"
    }
   ],
   "source": [
    "key"
   ]
  },
  {
   "cell_type": "code",
   "execution_count": 4,
   "metadata": {},
   "outputs": [],
   "source": [
    "def encrypt(information, key):  \n",
    "    encrypted = ''\n",
    "    print('Information: ',information)\n",
    "    for x in range(len(key)):\n",
    "        if ord(information[x]) not in range(97,123):\n",
    "            encrypted += information[x]\n",
    "        else:\n",
    "            encrypted += inv_tabula[((tabula[information[x]])+(tabula[key[x]]))%26]\n",
    "    print('Enc: ',encrypted)\n",
    "    return encrypted"
   ]
  },
  {
   "cell_type": "code",
   "execution_count": 5,
   "metadata": {},
   "outputs": [],
   "source": [
    "def decrypt(cipher, key):\n",
    "    decrypted = ''\n",
    "    for x in range(len(cipher)):\n",
    "        if ord(cipher[x]) not in range(97,123):\n",
    "                decrypted +=cipher[x]\n",
    "        else:\n",
    "            if inv_tabula[(tabula[cipher[x]] - tabula[key[x]] + 26)%26] == 0:\n",
    "                decrypted += 'a'\n",
    "            else:\n",
    "                decrypted += inv_tabula[(tabula[cipher[x]] - tabula[key[x]] + 26)%26]\n",
    "    print('Decrypted: ', decrypted)\n",
    "    return decrypted"
   ]
  },
  {
   "cell_type": "code",
   "execution_count": 6,
   "metadata": {},
   "outputs": [
    {
     "name": "stdout",
     "output_type": "stream",
     "text": [
      "Information:  this lesson is 2nd on saturday\n",
      "Enc:  emhd qddxny nr 2sc zs rlytcizj\n"
     ]
    }
   ],
   "source": [
    "enc = encrypt(information, key)"
   ]
  },
  {
   "cell_type": "code",
   "execution_count": 7,
   "metadata": {},
   "outputs": [
    {
     "name": "stdout",
     "output_type": "stream",
     "text": [
      "Decrypted:  this lesson is 2nd on saturday\n"
     ]
    }
   ],
   "source": [
    "dec = decrypt(enc, key)"
   ]
  },
  {
   "cell_type": "code",
   "execution_count": 30,
   "metadata": {},
   "outputs": [
    {
     "data": {
      "text/plain": [
       "'the quick brown fox jumps over 13 lazy dogs.'"
      ]
     },
     "execution_count": 30,
     "metadata": {},
     "output_type": "execute_result"
    }
   ],
   "source": [
    "dec"
   ]
  },
  {
   "cell_type": "code",
   "execution_count": null,
   "metadata": {},
   "outputs": [],
   "source": []
  }
 ],
 "metadata": {
  "kernelspec": {
   "display_name": "Python 3",
   "language": "python",
   "name": "python3"
  },
  "language_info": {
   "codemirror_mode": {
    "name": "ipython",
    "version": 3
   },
   "file_extension": ".py",
   "mimetype": "text/x-python",
   "name": "python",
   "nbconvert_exporter": "python",
   "pygments_lexer": "ipython3",
   "version": "3.7.3"
  }
 },
 "nbformat": 4,
 "nbformat_minor": 2
}
