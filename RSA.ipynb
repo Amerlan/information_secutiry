{
 "cells": [
  {
   "cell_type": "code",
   "execution_count": 6,
   "metadata": {},
   "outputs": [],
   "source": [
    "import numpy as np\n",
    "import random\n",
    "\n",
    "def prime_numbers():\n",
    "    primes = []\n",
    "    for i in range (3,int(1e+2)):\n",
    "        cnt = 0\n",
    "        for j in range(1,i+1):\n",
    "            if i%j == 0:\n",
    "                cnt += 1\n",
    "            if cnt > 2:\n",
    "                break\n",
    "        if cnt == 2:\n",
    "            primes.append(i)\n",
    "    return primes\n",
    "\n",
    "primes = prime_numbers()\n",
    "print(primes)\n",
    "\n",
    "def gen_key(primes):\n",
    "    p = 0\n",
    "    q = 0\n",
    "    while p == q:\n",
    "        p = primes[random.randrange(len(primes))]\n",
    "        q = primes[random.randrange(len(primes))]\n",
    "    print('p', p)\n",
    "    print('q', q)\n",
    "    n = p*q\n",
    "    phi = (p-1)*(q-1)\n",
    "    print('n', n)\n",
    "    print('phi',phi)\n",
    "    open_exponent = open_exp(phi)[random.randrange(len(open_exp(phi)))]\n",
    "    print('e ', open_exponent)\n",
    "    pub_key = [open_exponent, n]\n",
    "    for d in range(n):\n",
    "        if (d*open_exponent)%phi == 1:\n",
    "            break\n",
    "    priv_key = [d, n]\n",
    "    print('d',d)\n",
    "    return pub_key, priv_key\n",
    "\n",
    "def open_exp(phi):\n",
    "    output = []\n",
    "    for x in range(3,phi):\n",
    "        cnt = 0\n",
    "        if phi%x == 0:\n",
    "            continue\n",
    "        else:\n",
    "            for j in range(1,x+1):\n",
    "                if x%j == 0:\n",
    "                    cnt += 1\n",
    "                if cnt > 2:\n",
    "                    break\n",
    "            if cnt == 2:\n",
    "                output.append(x)\n",
    "    return output\n",
    "\n",
    "public, private = gen_key(primes)\n",
    "\n",
    "private\n",
    "\n",
    "def encrypt(data, public_key):\n",
    "    return (data**public_key[0])%public_key[1]\n",
    "\n",
    "encrypt(1028,public)\n",
    "\n",
    "def decrypt(data, private_key):\n",
    "    return (data**private_key[0])%private_key[1]\n",
    "\n",
    "decrypt(1064, private)"
   ]
  },
  {
   "cell_type": "code",
   "execution_count": 23,
   "metadata": {},
   "outputs": [
    {
     "data": {
      "text/plain": [
       "'http://dpaste.com/3SHBQSC'"
      ]
     },
     "execution_count": 23,
     "metadata": {},
     "output_type": "execute_result"
    }
   ],
   "source": [
    "%pastebin amir.py"
   ]
  },
  {
   "cell_type": "code",
   "execution_count": 2,
   "metadata": {},
   "outputs": [
    {
     "data": {
      "text/plain": [
       "2"
      ]
     },
     "execution_count": 2,
     "metadata": {},
     "output_type": "execute_result"
    }
   ],
   "source": [
    "5**4%7"
   ]
  },
  {
   "cell_type": "code",
   "execution_count": 5,
   "metadata": {},
   "outputs": [
    {
     "data": {
      "text/plain": [
       "2"
      ]
     },
     "execution_count": 5,
     "metadata": {},
     "output_type": "execute_result"
    }
   ],
   "source": [
    "7**3%11"
   ]
  },
  {
   "cell_type": "code",
   "execution_count": null,
   "metadata": {},
   "outputs": [],
   "source": []
  }
 ],
 "metadata": {
  "kernelspec": {
   "display_name": "Python 3",
   "language": "python",
   "name": "python3"
  },
  "language_info": {
   "codemirror_mode": {
    "name": "ipython",
    "version": 3
   },
   "file_extension": ".py",
   "mimetype": "text/x-python",
   "name": "python",
   "nbconvert_exporter": "python",
   "pygments_lexer": "ipython3",
   "version": "3.7.3"
  }
 },
 "nbformat": 4,
 "nbformat_minor": 2
}
